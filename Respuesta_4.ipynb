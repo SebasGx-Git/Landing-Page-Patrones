{
  "nbformat": 4,
  "nbformat_minor": 0,
  "metadata": {
    "colab": {
      "name": "Respuesta 4.ipynb",
      "provenance": [],
      "collapsed_sections": [],
      "authorship_tag": "ABX9TyPVrpsgRcfSttXgn7kbIoaz",
      "include_colab_link": true
    },
    "kernelspec": {
      "name": "python3",
      "display_name": "Python 3"
    },
    "language_info": {
      "name": "python"
    }
  },
  "cells": [
    {
      "cell_type": "markdown",
      "metadata": {
        "id": "view-in-github",
        "colab_type": "text"
      },
      "source": [
        "<a href=\"https://colab.research.google.com/github/SebasGx-Git/Landing-Page-Patrones/blob/main/Respuesta_4.ipynb\" target=\"_parent\"><img src=\"https://colab.research.google.com/assets/colab-badge.svg\" alt=\"Open In Colab\"/></a>"
      ]
    },
    {
      "cell_type": "markdown",
      "metadata": {
        "id": "mB3KKnrbA71b"
      },
      "source": [
        "## Librerias y funciones anexas"
      ]
    },
    {
      "cell_type": "code",
      "metadata": {
        "id": "9M_cQ1ELA2CT"
      },
      "source": [
        "import graphviz as gv\n",
        "import numpy as np\n",
        "import pandas as pd"
      ],
      "execution_count": 1,
      "outputs": []
    },
    {
      "cell_type": "code",
      "metadata": {
        "id": "n7dupifrA_9T"
      },
      "source": [
        "def readAdjl(fn, haslabels=False, weighted=False, sep=\"|\"):\n",
        "  with open(fn) as f:\n",
        "    labels = None\n",
        "    if haslabels:\n",
        "      labels = f.readline().strip().split()\n",
        "    L = []\n",
        "    for line in f:\n",
        "      if weighted:\n",
        "        L.append([tuple(map(int, p.split(sep))) for p in line.strip().split()])\n",
        "        # line => \"1|3 2|5 4|4\" ==> [(1, 3), (2, 5), (4, 4)]\n",
        "      else: \n",
        "        L.append(list(map(int, line.strip().split()))) # \"1 3 5\" => [1, 3, 5]\n",
        "        # L.append([int(x) for x in line.strip().split()])\n",
        "  return L, labels\n",
        "\n",
        "def adjlShow(L, labels=None, directed=False, weighted=False, path=[],\n",
        "             layout=\"sfdp\"):\n",
        "  g = gv.Digraph(\"G\") if directed else gv.Graph(\"G\")\n",
        "  g.graph_attr[\"layout\"] = layout\n",
        "  g.edge_attr[\"color\"] = \"gray\"\n",
        "  g.node_attr[\"color\"] = \"orangered\"\n",
        "  g.node_attr[\"width\"] = \"0.1\"\n",
        "  g.node_attr[\"height\"] = \"0.1\"\n",
        "  g.node_attr[\"fontsize\"] = \"8\"\n",
        "  g.node_attr[\"fontcolor\"] = \"mediumslateblue\"\n",
        "  g.node_attr[\"fontname\"] = \"monospace\"\n",
        "  g.edge_attr[\"fontsize\"] = \"8\"\n",
        "  g.edge_attr[\"fontname\"] = \"monospace\"\n",
        "  n = len(L)\n",
        "  for u in range(n):\n",
        "    g.node(str(u), labels[u] if labels else str(u))\n",
        "  added = set()\n",
        "  for v, u in enumerate(path):\n",
        "    if u != None:\n",
        "      if weighted:\n",
        "        for vi, w in G[u]:\n",
        "          if vi == v:\n",
        "            break\n",
        "        g.edge(str(u), str(v), str(w), dir=\"forward\", penwidth=\"2\", color=\"orange\")\n",
        "      else:\n",
        "        g.edge(str(u), str(v), dir=\"forward\", penwidth=\"2\", color=\"orange\")\n",
        "      added.add(f\"{u},{v}\")\n",
        "      added.add(f\"{v},{u}\")\n",
        "  if weighted:\n",
        "    for u in range(n):\n",
        "      for v, w in L[u]:\n",
        "        if not directed and not f\"{u},{v}\" in added:\n",
        "          added.add(f\"{u},{v}\")\n",
        "          added.add(f\"{v},{u}\")\n",
        "          g.edge(str(u), str(v), str(w))\n",
        "        elif directed:\n",
        "          g.edge(str(u), str(v), str(w))\n",
        "  else:\n",
        "    for u in range(n):\n",
        "      for v in L[u]:\n",
        "        if not directed and not f\"{u},{v}\" in added:\n",
        "          added.add(f\"{u},{v}\")\n",
        "          added.add(f\"{v},{u}\")\n",
        "          g.edge(str(u), str(v))\n",
        "        elif directed:\n",
        "          g.edge(str(u), str(v))\n",
        "  return g"
      ],
      "execution_count": 2,
      "outputs": []
    },
    {
      "cell_type": "markdown",
      "metadata": {
        "id": "A9KPO8rtBNuC"
      },
      "source": [
        "## El Ordenamiento topologico basicamente devuelve una lista de presedentes en un grafo. En un caso facil, si tenemos una lista de procedimientos, el orden topologicos, nos devuelve en que orden debemos resolver esa lista para cumplir todos estos procedimientos .\n",
        "\n",
        "## Como podemos suponer este orden no puede ser ciclico (A->B, B->C, C->A) por que surge la duda de : ¿Cual se resuelve primero?\n",
        "\n",
        "## En base a esto colocaremos un caso de ejemplo sobre la resolución de este ordenamiento topologico."
      ]
    },
    {
      "cell_type": "code",
      "metadata": {
        "id": "zBHxWV8DBqxr"
      },
      "source": [
        "def topoSort(G):\n",
        "  n = len(G)\n",
        "  visited = [False]*n\n",
        "  ts = []\n",
        "\n",
        "  def dfs(u):\n",
        "    if not visited[u]:\n",
        "      visited[u] = True\n",
        "      for v in G[u]:\n",
        "        if not visited[v]:\n",
        "          dfs(v)\n",
        "      ts.append(u)\n",
        "\n",
        "  for u in range(n):\n",
        "    dfs(u)\n",
        "\n",
        "  return ts"
      ],
      "execution_count": 6,
      "outputs": []
    },
    {
      "cell_type": "code",
      "metadata": {
        "colab": {
          "base_uri": "https://localhost:8080/"
        },
        "id": "nauIifZLBKYH",
        "outputId": "06a63cf8-0f0e-445b-88b4-cfdd4ea75372"
      },
      "source": [
        "%%file 1.in\n",
        "pants belt tshirt watch socks shoes undies\n",
        "1 2\n",
        "0 3 \n",
        "1 4 0\n",
        "2 0 3 \n",
        "1 0 1\n",
        "6 3 \n",
        "5 1"
      ],
      "execution_count": 3,
      "outputs": [
        {
          "output_type": "stream",
          "name": "stdout",
          "text": [
            "Writing 1.in\n"
          ]
        }
      ]
    },
    {
      "cell_type": "markdown",
      "metadata": {
        "id": "a_bQy4WRBYFU"
      },
      "source": [
        "## En un caso no ciclico, el orden para vestirse sería: undies-> socks -> pants -> shoes -> tshirt -> watch. Sin embargo como no hay un orden establecido, podemos ver que esto devolvera un orden que no deseamos"
      ]
    },
    {
      "cell_type": "code",
      "metadata": {
        "colab": {
          "base_uri": "https://localhost:8080/",
          "height": 463
        },
        "id": "XJ5s9r6jBids",
        "outputId": "fe8a5cb3-8452-4c5e-acc5-f8847241fd1e"
      },
      "source": [
        "G, labels = readAdjl(\"1.in\", haslabels=True)\n",
        "adjlShow(G, labels=labels, directed=True, layout=\"dot\")"
      ],
      "execution_count": 5,
      "outputs": [
        {
          "output_type": "execute_result",
          "data": {
            "text/plain": [
              "<graphviz.dot.Digraph at 0x7f4817a336d0>"
            ],
            "image/svg+xml": "<?xml version=\"1.0\" encoding=\"UTF-8\" standalone=\"no\"?>\n<!DOCTYPE svg PUBLIC \"-//W3C//DTD SVG 1.1//EN\"\n \"http://www.w3.org/Graphics/SVG/1.1/DTD/svg11.dtd\">\n<!-- Generated by graphviz version 2.40.1 (20161225.0304)\n -->\n<!-- Title: G Pages: 1 -->\n<svg width=\"205pt\" height=\"332pt\"\n viewBox=\"0.00 0.00 205.35 332.25\" xmlns=\"http://www.w3.org/2000/svg\" xmlns:xlink=\"http://www.w3.org/1999/xlink\">\n<g id=\"graph0\" class=\"graph\" transform=\"scale(1 1) rotate(0) translate(4 328.2498)\">\n<title>G</title>\n<polygon fill=\"#ffffff\" stroke=\"transparent\" points=\"-4,4 -4,-328.2498 201.3467,-328.2498 201.3467,4 -4,4\"/>\n<!-- 0 -->\n<g id=\"node1\" class=\"node\">\n<title>0</title>\n<ellipse fill=\"none\" stroke=\"#ff4500\" cx=\"30.4056\" cy=\"-252.1873\" rx=\"30.3115\" ry=\"12.0417\"/>\n<text text-anchor=\"middle\" x=\"30.4056\" y=\"-250.2873\" font-family=\"monospace\" font-size=\"8.00\" fill=\"#7b68ee\">pants</text>\n</g>\n<!-- 1 -->\n<g id=\"node2\" class=\"node\">\n<title>1</title>\n<ellipse fill=\"none\" stroke=\"#ff4500\" cx=\"159.4056\" cy=\"-192.1457\" rx=\"26.7407\" ry=\"12.0417\"/>\n<text text-anchor=\"middle\" x=\"159.4056\" y=\"-190.2457\" font-family=\"monospace\" font-size=\"8.00\" fill=\"#7b68ee\">belt</text>\n</g>\n<!-- 0&#45;&gt;1 -->\n<g id=\"edge1\" class=\"edge\">\n<title>0&#45;&gt;1</title>\n<path fill=\"none\" stroke=\"#c0c0c0\" d=\"M47.0717,-242.0021C67.9274,-231.3812 103.55,-214.765 129.1946,-203.6706\"/>\n<polygon fill=\"#c0c0c0\" stroke=\"#c0c0c0\" points=\"130.6553,-206.8528 138.483,-199.713 127.9114,-200.413 130.6553,-206.8528\"/>\n</g>\n<!-- 2 -->\n<g id=\"node3\" class=\"node\">\n<title>2</title>\n<ellipse fill=\"none\" stroke=\"#ff4500\" cx=\"83.4056\" cy=\"-72.0624\" rx=\"33.8824\" ry=\"12.0417\"/>\n<text text-anchor=\"middle\" x=\"83.4056\" y=\"-70.1624\" font-family=\"monospace\" font-size=\"8.00\" fill=\"#7b68ee\">tshirt</text>\n</g>\n<!-- 0&#45;&gt;2 -->\n<g id=\"edge2\" class=\"edge\">\n<title>0&#45;&gt;2</title>\n<path fill=\"none\" stroke=\"#c0c0c0\" d=\"M24.4495,-240.334C19.058,-216.5238 18.1476,-161.6133 35.4056,-120.0833 40.1871,-108.5771 48.6445,-97.6374 57.3017,-89.1138\"/>\n<polygon fill=\"#c0c0c0\" stroke=\"#c0c0c0\" points=\"59.7869,-91.5858 64.8736,-82.2919 55.1014,-86.3851 59.7869,-91.5858\"/>\n</g>\n<!-- 1&#45;&gt;0 -->\n<g id=\"edge3\" class=\"edge\">\n<title>1&#45;&gt;0</title>\n<path fill=\"none\" stroke=\"#c0c0c0\" d=\"M143.264,-202.0635C122.9186,-212.45 87.9724,-228.7765 62.2472,-239.9554\"/>\n<polygon fill=\"#c0c0c0\" stroke=\"#c0c0c0\" points=\"60.7025,-236.8094 52.8889,-243.9647 63.4591,-243.2438 60.7025,-236.8094\"/>\n</g>\n<!-- 3 -->\n<g id=\"node4\" class=\"node\">\n<title>3</title>\n<ellipse fill=\"none\" stroke=\"#ff4500\" cx=\"83.4056\" cy=\"-132.1041\" rx=\"30.3115\" ry=\"12.0417\"/>\n<text text-anchor=\"middle\" x=\"83.4056\" y=\"-130.2041\" font-family=\"monospace\" font-size=\"8.00\" fill=\"#7b68ee\">watch</text>\n</g>\n<!-- 1&#45;&gt;3 -->\n<g id=\"edge4\" class=\"edge\">\n<title>1&#45;&gt;3</title>\n<path fill=\"none\" stroke=\"#c0c0c0\" d=\"M145.8183,-181.4115C134.5406,-172.5018 118.2879,-159.6619 105.195,-149.3182\"/>\n<polygon fill=\"#c0c0c0\" stroke=\"#c0c0c0\" points=\"107.1479,-146.4006 97.1315,-142.9478 102.8085,-151.8933 107.1479,-146.4006\"/>\n</g>\n<!-- 2&#45;&gt;0 -->\n<g id=\"edge7\" class=\"edge\">\n<title>2&#45;&gt;0</title>\n<path fill=\"none\" stroke=\"#c0c0c0\" d=\"M77.7219,-84.1536C70.2984,-93.1383 59.1755,-106.1983 53.4056,-120.0833 38.3152,-156.3971 37.1159,-202.9412 35.3387,-229.9785\"/>\n<polygon fill=\"#c0c0c0\" stroke=\"#c0c0c0\" points=\"31.8486,-229.7163 34.5333,-239.9653 38.8259,-230.279 31.8486,-229.7163\"/>\n</g>\n<!-- 2&#45;&gt;1 -->\n<g id=\"edge5\" class=\"edge\">\n<title>2&#45;&gt;1</title>\n<path fill=\"none\" stroke=\"#c0c0c0\" d=\"M100.8679,-82.5534C113.6515,-91.1125 130.4411,-104.3385 140.4056,-120.0833 149.9821,-135.215 154.7573,-155.0488 157.1236,-170.0773\"/>\n<polygon fill=\"#c0c0c0\" stroke=\"#c0c0c0\" points=\"153.6605,-170.5872 158.4551,-180.0351 160.5988,-169.6595 153.6605,-170.5872\"/>\n</g>\n<!-- 4 -->\n<g id=\"node5\" class=\"node\">\n<title>4</title>\n<ellipse fill=\"none\" stroke=\"#ff4500\" cx=\"144.4056\" cy=\"-12.0208\" rx=\"30.3115\" ry=\"12.0417\"/>\n<text text-anchor=\"middle\" x=\"144.4056\" y=\"-10.1208\" font-family=\"monospace\" font-size=\"8.00\" fill=\"#7b68ee\">socks</text>\n</g>\n<!-- 2&#45;&gt;4 -->\n<g id=\"edge6\" class=\"edge\">\n<title>2&#45;&gt;4</title>\n<path fill=\"none\" stroke=\"#c0c0c0\" d=\"M95.167,-60.4858C103.6902,-52.0965 115.401,-40.5697 125.2634,-30.8623\"/>\n<polygon fill=\"#c0c0c0\" stroke=\"#c0c0c0\" points=\"128.0086,-33.0712 132.6803,-23.5619 123.0982,-28.0824 128.0086,-33.0712\"/>\n</g>\n<!-- 3&#45;&gt;0 -->\n<g id=\"edge9\" class=\"edge\">\n<title>3&#45;&gt;0</title>\n<path fill=\"none\" stroke=\"#c0c0c0\" d=\"M78.1513,-144.0088C69.2373,-164.2055 51.0329,-205.4516 39.8574,-230.7721\"/>\n<polygon fill=\"#c0c0c0\" stroke=\"#c0c0c0\" points=\"36.5171,-229.6725 35.6812,-240.2343 42.9211,-232.499 36.5171,-229.6725\"/>\n</g>\n<!-- 3&#45;&gt;2 -->\n<g id=\"edge8\" class=\"edge\">\n<title>3&#45;&gt;2</title>\n<path fill=\"none\" stroke=\"#c0c0c0\" d=\"M83.4056,-119.9538C83.4056,-112.6293 83.4056,-103.0735 83.4056,-94.4261\"/>\n<polygon fill=\"#c0c0c0\" stroke=\"#c0c0c0\" points=\"86.9057,-94.1947 83.4056,-84.1947 79.9057,-94.1947 86.9057,-94.1947\"/>\n</g>\n<!-- 3&#45;&gt;3 -->\n<g id=\"edge10\" class=\"edge\">\n<title>3&#45;&gt;3</title>\n<path fill=\"none\" stroke=\"#c0c0c0\" d=\"M101.7822,-141.772C116.5584,-145.6392 131.8112,-142.4166 131.8112,-132.1041 131.8112,-124.128 122.6869,-120.3931 111.7159,-120.8994\"/>\n<polygon fill=\"#c0c0c0\" stroke=\"#c0c0c0\" points=\"111.1296,-117.4484 101.7822,-122.4361 112.1998,-124.3661 111.1296,-117.4484\"/>\n</g>\n<!-- 4&#45;&gt;0 -->\n<g id=\"edge12\" class=\"edge\">\n<title>4&#45;&gt;0</title>\n<path fill=\"none\" stroke=\"#c0c0c0\" d=\"M116.6395,-17.0409C92.4438,-22.9616 58.4799,-35.317 40.4056,-60.0416 3.2653,-110.8474 15.3754,-190.942 24.3604,-229.6981\"/>\n<polygon fill=\"#c0c0c0\" stroke=\"#c0c0c0\" points=\"21.084,-231.0296 26.8794,-239.8988 27.8798,-229.3513 21.084,-231.0296\"/>\n</g>\n<!-- 4&#45;&gt;1 -->\n<g id=\"edge11\" class=\"edge\">\n<title>4&#45;&gt;1</title>\n<path fill=\"none\" stroke=\"#c0c0c0\" d=\"M141.0663,-24.2799C141.2328,-44.2594 147.991,-85.1262 150.4056,-120.0833 151.562,-136.8255 151.5066,-155.8079 152.4865,-170.0861\"/>\n<polygon fill=\"#c0c0c0\" stroke=\"#c0c0c0\" points=\"149.0413,-170.8022 153.5373,-180.3957 156.0052,-170.0923 149.0413,-170.8022\"/>\n</g>\n<!-- 4&#45;&gt;1 -->\n<g id=\"edge13\" class=\"edge\">\n<title>4&#45;&gt;1</title>\n<path fill=\"none\" stroke=\"#c0c0c0\" d=\"M152.1604,-23.9577C159.1596,-43.8174 165.9779,-84.9373 168.4056,-120.0833 169.5735,-136.9913 169.5053,-156.184 167.8486,-170.5088\"/>\n<polygon fill=\"#c0c0c0\" stroke=\"#c0c0c0\" points=\"164.3907,-169.9682 166.2662,-180.3957 171.3027,-171.0745 164.3907,-169.9682\"/>\n</g>\n<!-- 5 -->\n<g id=\"node6\" class=\"node\">\n<title>5</title>\n<ellipse fill=\"none\" stroke=\"#ff4500\" cx=\"163.4056\" cy=\"-312.229\" rx=\"30.3115\" ry=\"12.0417\"/>\n<text text-anchor=\"middle\" x=\"163.4056\" y=\"-310.329\" font-family=\"monospace\" font-size=\"8.00\" fill=\"#7b68ee\">shoes</text>\n</g>\n<!-- 5&#45;&gt;3 -->\n<g id=\"edge15\" class=\"edge\">\n<title>5&#45;&gt;3</title>\n<path fill=\"none\" stroke=\"#c0c0c0\" d=\"M150.763,-301.1845C141.144,-292.138 128.263,-278.5334 120.4056,-264.2082 100.8758,-228.6021 90.9476,-181.8229 86.4946,-154.5497\"/>\n<polygon fill=\"#c0c0c0\" stroke=\"#c0c0c0\" points=\"89.9246,-153.8249 84.955,-144.4679 83.0048,-154.8816 89.9246,-153.8249\"/>\n</g>\n<!-- 6 -->\n<g id=\"node7\" class=\"node\">\n<title>6</title>\n<ellipse fill=\"none\" stroke=\"#ff4500\" cx=\"163.4056\" cy=\"-252.1873\" rx=\"33.8824\" ry=\"12.0417\"/>\n<text text-anchor=\"middle\" x=\"163.4056\" y=\"-250.2873\" font-family=\"monospace\" font-size=\"8.00\" fill=\"#7b68ee\">undies</text>\n</g>\n<!-- 5&#45;&gt;6 -->\n<g id=\"edge14\" class=\"edge\">\n<title>5&#45;&gt;6</title>\n<path fill=\"none\" stroke=\"#c0c0c0\" d=\"M157.9019,-300.3667C156.7349,-292.9804 156.3875,-283.2451 156.8595,-274.4601\"/>\n<polygon fill=\"#c0c0c0\" stroke=\"#c0c0c0\" points=\"160.3496,-274.7309 157.8417,-264.4372 153.383,-274.0482 160.3496,-274.7309\"/>\n</g>\n<!-- 6&#45;&gt;1 -->\n<g id=\"edge17\" class=\"edge\">\n<title>6&#45;&gt;1</title>\n<path fill=\"none\" stroke=\"#c0c0c0\" d=\"M162.5961,-240.037C162.1082,-232.7126 161.4716,-223.1568 160.8955,-214.5093\"/>\n<polygon fill=\"#c0c0c0\" stroke=\"#c0c0c0\" points=\"164.3709,-214.0232 160.2138,-204.278 157.3864,-214.4885 164.3709,-214.0232\"/>\n</g>\n<!-- 6&#45;&gt;5 -->\n<g id=\"edge16\" class=\"edge\">\n<title>6&#45;&gt;5</title>\n<path fill=\"none\" stroke=\"#c0c0c0\" d=\"M168.9695,-264.4372C170.1079,-271.9042 170.4268,-281.6628 169.9263,-290.4138\"/>\n<polygon fill=\"#c0c0c0\" stroke=\"#c0c0c0\" points=\"166.444,-290.0627 168.9093,-300.3667 173.4078,-290.7743 166.444,-290.0627\"/>\n</g>\n</g>\n</svg>\n"
          },
          "metadata": {},
          "execution_count": 5
        }
      ]
    },
    {
      "cell_type": "code",
      "metadata": {
        "colab": {
          "base_uri": "https://localhost:8080/"
        },
        "id": "-iNc-ZJBBvoF",
        "outputId": "e74c05bd-6952-40bd-a468-2f37387fd920"
      },
      "source": [
        "ts = topoSort(G)\n",
        "print(list(reversed([labels[u] for u in ts])))"
      ],
      "execution_count": 7,
      "outputs": [
        {
          "output_type": "stream",
          "name": "stdout",
          "text": [
            "['shoes', 'undies', 'pants', 'belt', 'watch', 'tshirt', 'socks']\n"
          ]
        }
      ]
    },
    {
      "cell_type": "markdown",
      "metadata": {
        "id": "ZwFapOFFBxX8"
      },
      "source": [
        "## Como podemos observar, el codigo funciona correctamente, sin embargo no se obtiene un orden de precedentes ya que este grafo presenta ciclos"
      ]
    }
  ]
}